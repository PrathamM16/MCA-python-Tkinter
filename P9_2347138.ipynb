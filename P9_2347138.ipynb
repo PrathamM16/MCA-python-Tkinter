import tkinter as tk
from tkinter import messagebox
import re
from datetime import datetime

# Function to calculate age from DOB
def calculate_age():
    dob = entry_dob.get()
    try:
        dob_date = datetime.strptime(dob, '%Y-%m-%d')
        today = datetime.today()
        age = today.year - dob_date.year - ((today.month, today.day) < (dob_date.month, dob_date.day))
        result_label.config(text=f"Age: {age} years")
    except ValueError:
        messagebox.showerror("Error", "Invalid Date of Birth format")

# Function to validate and display all inputs
def validate_and_display():
    name = entry_name.get()
    email = entry_email.get()
    phone = entry_phone.get()
    dob = entry_dob.get()
    gender = gender_var.get()
    subscription = subscription_var.get()
    
    # Regular expressions for validation
    email_pattern = r'^[a-zA-Z0-9._%+-]+@[a-zA-Z0-9.-]+\.[a-zA-Z]{2,4}$'
    phone_pattern = r'^\d{10}$'
    
    # Check if inputs match the regular expressions
    if not re.match(email_pattern, email):
        messagebox.showerror("Error", "Invalid Email Address")
    elif not re.match(phone_pattern, phone):
        messagebox.showerror("Error", "Invalid Phone Number")
    else:
        # If all inputs are valid, display them
        result_text = f"Name: {name}\nEmail: {email}\nPhone: {phone}\nDOB: {dob}\nGender: {gender}\nSubscription: {subscription}"
        result_label.config(text=result_text)
        calculate_age()

# Create the main window
root = tk.Tk()
root.title("Form Validation and Calculation")

# Create and place widgets on the form
label_name = tk.Label(root, text="Name:")
entry_name = tk.Entry(root)

label_email = tk.Label(root, text="Email:")
entry_email = tk.Entry(root)

label_phone = tk.Label(root, text="Phone:")
entry_phone = tk.Entry(root)

label_dob = tk.Label(root, text="Date of Birth (YYYY-MM-DD):")
entry_dob = tk.Entry(root)

gender_var = tk.StringVar()
label_gender = tk.Label(root, text="Gender:")
male_radio = tk.Radiobutton(root, text="Male", variable=gender_var, value="Male")
female_radio = tk.Radiobutton(root, text="Female", variable=gender_var, value="Female")

subscription_var = tk.StringVar()
label_subscription = tk.Label(root, text="Subscription:")
subscription_menu = tk.OptionMenu(root, subscription_var, "Basic", "Pro", "Premium")

validate_button = tk.Button(root, text="Validate and Display", command=validate_and_display)

result_label = tk.Label(root, text="", font=("Helvetica", 12))

# Place widgets using the grid layout
label_name.grid(row=0, column=0)
entry_name.grid(row=0, column=1)

label_email.grid(row=1, column=0)
entry_email.grid(row=1, column=1)

label_phone.grid(row=2, column=0)
entry_phone.grid(row=2, column=1)

label_dob.grid(row=3, column=0)
entry_dob.grid(row=3, column=1)

label_gender.grid(row=4, column=0)
male_radio.grid(row=4, column=1)
female_radio.grid(row=4, column=2)

label_subscription.grid(row=5, column=0)
subscription_menu.grid(row=5, column=1)

validate_button.grid(row=6, column=0, columnspan=2)

result_label.grid(row=7, column=0, columnspan=2)

# Start the Tkinter main loop
root.mainloop()
